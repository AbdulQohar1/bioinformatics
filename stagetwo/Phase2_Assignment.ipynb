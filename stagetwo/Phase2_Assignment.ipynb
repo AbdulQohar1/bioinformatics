{
 "cells": [
  {
   "cell_type": "markdown",
   "metadata": {
    "id": "ekOh4C66EWN8"
   },
   "source": [
    "## Programming/Automation\n",
    "- Breakdown all mini-goals to be achieved\n",
    "- Identify all tools, libraries, etc, required to achieve said goals\n",
    "- Make a list of all the functions that may be required\n",
    "- Ensure all tools,libraries, etc, are installed & imported correctly\n",
    "- Visualise the ideal and potential usage of script/pipeline/workflow...\n"
   ]
  },
  {
   "cell_type": "code",
   "execution_count": null,
   "metadata": {
    "colab": {
     "base_uri": "https://localhost:8080/"
    },
    "executionInfo": {
     "elapsed": 7983,
     "status": "ok",
     "timestamp": 1748552654546,
     "user": {
      "displayName": "Adebayo Abdulqohar",
      "userId": "04488705401563346337"
     },
     "user_tz": -60
    },
    "id": "TTlqhIo_Ec3W",
    "outputId": "96a50f61-c6c7-4257-ed19-33c98729d86e"
   },
   "outputs": [
    {
     "name": "stdout",
     "output_type": "stream",
     "text": [
      "Collecting biopython\n",
      "  Downloading biopython-1.85-cp311-cp311-manylinux_2_17_x86_64.manylinux2014_x86_64.whl.metadata (13 kB)\n",
      "Requirement already satisfied: numpy in /usr/local/lib/python3.11/dist-packages (from biopython) (2.0.2)\n",
      "Downloading biopython-1.85-cp311-cp311-manylinux_2_17_x86_64.manylinux2014_x86_64.whl (3.3 MB)\n",
      "\u001b[2K   \u001b[90m━━━━━━━━━━━━━━━━━━━━━━━━━━━━━━━━━━━━━━━━\u001b[0m \u001b[32m3.3/3.3 MB\u001b[0m \u001b[31m23.4 MB/s\u001b[0m eta \u001b[36m0:00:00\u001b[0m\n",
      "\u001b[?25hInstalling collected packages: biopython\n",
      "Successfully installed biopython-1.85\n"
     ]
    }
   ],
   "source": [
    "!pip install biopython #; Bio.SeqIO from Biopython\n",
    "from Bio import SeqIO\n",
    "\n",
    "for record in SeqIO.parse(\"/content/drive/MyDrive/Colab Notebooks/cat2d_task1/mystery1.fa\", \"fasta\"):\n",
    "    print(f\"ID: {record.id}\")\n",
    "    print(f\"Sequence: {record.seq}\")\n",
    "    print(f\"Length: {len(record.seq)}\\n\")"
   ]
  },
  {
   "cell_type": "code",
   "execution_count": null,
   "metadata": {
    "id": "-HvDDXaLPClc"
   },
   "outputs": [],
   "source": [
    "from collections import Counter\n",
    "\n",
    "for record in SeqIO.parse(\"/content/drive/MyDrive/Colab Notebooks/cat2d_task1/mystery1.fa\", \"fasta\"):\n",
    "    aa_counts = Counter(record.seq)\n",
    "    print(f\"Amino acid frequencies for {record.id}:\")\n",
    "    print(aa_counts, \"\\n\")"
   ]
  },
  {
   "cell_type": "code",
   "execution_count": null,
   "metadata": {
    "colab": {
     "base_uri": "https://localhost:8080/"
    },
    "executionInfo": {
     "elapsed": 100489,
     "status": "ok",
     "timestamp": 1754481032774,
     "user": {
      "displayName": "Adebayo Abdulqohar",
      "userId": "04488705401563346337"
     },
     "user_tz": -60
    },
    "id": "eDow1qSOg_Fg",
    "outputId": "83b744ad-f0ee-4036-b0e5-0a0aa9867503"
   },
   "outputs": [
    {
     "name": "stdout",
     "output_type": "stream",
     "text": [
      "Mounted at /content/drive\n"
     ]
    }
   ],
   "source": [
    "from google.colab import drive\n",
    "drive.mount('/content/drive')"
   ]
  },
  {
   "cell_type": "code",
   "execution_count": null,
   "metadata": {
    "colab": {
     "base_uri": "https://localhost:8080/",
     "height": 159
    },
    "executionInfo": {
     "elapsed": 25,
     "status": "error",
     "timestamp": 1744944580191,
     "user": {
      "displayName": "Halimat Chisom Atanda",
      "userId": "15570808194634360558"
     },
     "user_tz": -600
    },
    "id": "m_vqAFDbP8y-",
    "outputId": "6a3b28e6-d346-4fc6-ac76-acd6d135b9b2"
   },
   "outputs": [],
   "source": [
    "#wrapping amino acid counter in a script\n",
    "\n",
    "import argparse\n",
    "from Bio import SeqIO\n",
    "from collections import Counter\n",
    "\n",
    "def analyze_fasta(file_path):\n",
    "    for record in SeqIO.parse(file_path, \"fasta\"):\n",
    "        counts = Counter(record.seq)\n",
    "        print(f\"{record.id}: {dict(counts)}\")\n",
    "\n",
    "if __name__ == \"__main__\":\n",
    "    parser = argparse.ArgumentParser(description=\"Protein sequence analyzer\")\n",
    "    parser.add_argument(\"fasta_file\", help=\"Path to the FASTA file\")\n",
    "    args = parser.parse_args()\n",
    "    analyze_fasta(args.fasta_file)\n",
    "\n",
    "path = \"/content/drive/MyDrive/Colab Notebooks/cat2d_task1/mystery2.fa\"\n",
    "analyze_fasta(path)"
   ]
  },
  {
   "cell_type": "markdown",
   "metadata": {
    "id": "_YirwQzKVD9N"
   },
   "source": [
    "### To write and save (and use) a script in Google Colab\n",
    "\n",
    "Use a code cell to write the script as a multi-line string and save it."
   ]
  },
  {
   "cell_type": "code",
   "execution_count": null,
   "metadata": {
    "id": "-os_1FqASLzZ"
   },
   "outputs": [],
   "source": [
    "script_content = \"\"\"\n",
    "import argparse\n",
    "from Bio import SeqIO\n",
    "from collections import Counter\n",
    "\n",
    "def analyze_fasta(file_path):\n",
    "    for record in SeqIO.parse(file_path, \"fasta\"):\n",
    "        counts = Counter(record.seq)\n",
    "        print(f\"{record.id}: {dict(counts)}\")\n",
    "\n",
    "if __name__ == \"__main__\":\n",
    "    parser = argparse.ArgumentParser(description=\"Protein sequence analyzer\")\n",
    "    parser.add_argument(\"-f\", \"--fasta_file\", help=\"Path to the FASTA file\")\n",
    "    args = parser.parse_args()\n",
    "    analyze_fasta(args.fasta_file)\n",
    "\"\"\"\n",
    "\n",
    "# Save it to a file\n",
    "with open(\"script.py\", \"w\") as f:\n",
    "    f.write(script_content)"
   ]
  },
  {
   "cell_type": "code",
   "execution_count": null,
   "metadata": {
    "id": "7v4NpYtKz5KJ"
   },
   "outputs": [],
   "source": [
    "!cat script.py"
   ]
  },
  {
   "cell_type": "code",
   "execution_count": null,
   "metadata": {
    "id": "QjjFn6uu0i7P"
   },
   "outputs": [],
   "source": [
    "!chmod +x script.py"
   ]
  },
  {
   "cell_type": "code",
   "execution_count": null,
   "metadata": {
    "id": "pUVTyH0rTJ3-"
   },
   "outputs": [],
   "source": [
    "!python3 script.py -f /content/drive/MyDrive/Colab\\ Notebooks/cat2d_task1/mystery1.fa"
   ]
  },
  {
   "cell_type": "markdown",
   "metadata": {
    "id": "t238Bqn1ONQM"
   },
   "source": [
    "- `argparse` simulates real-world CLI tools. It is used for handling arguments, AKA, files and conditions that your tool requires.\n",
    "\n",
    "- In research, it’s always more than one file or one data point. Automation is a necessity.\n",
    "\n",
    "## **Your task**: Build a Sequence Profiler\n",
    "\n",
    "### What you'll do:\n",
    "- Write a Python script that:\n",
    "  - Takes in a FASTA file of DNA sequences (at least 3 sequences in a file)\n",
    "  - Calculates the GC content and identifies the most common k-mer (at least 2 values of k)\n",
    "  - Converts the DNA into protein sequences (check dictionary from phase 1)\n",
    "  - Identifies the most k-mer in the protein sequences (at least 2 values of k)\n",
    "  - Outputs a CSV with (protein):\n",
    "    - Sequence ID\n",
    "    - Sequence length\n",
    "    - Amino acid composition\n",
    "    - Percent of polar\n",
    "    - Percent of non-polar amino acids\n",
    "\n",
    "**Data source**: Visit NCBI and download any DNA sequence fasta file of choice. Your downloaded file must have at least 2 sequences.\n",
    "\n",
    "**Report**: Note the source and use that in your report; your report should briefly explain why you chose those sequences (biological relevance). Knowing amino acid composition could hint at protein properties like hydrophobicity or structure, so comment on these properties for your sequences and how that may be relevant for drug design. Also, comment on your observation with kmer calculation and how that may be relevant to docking for drug design. Finally, compare your generated protein sequences with the original protein sequence (from NCBI); do they match? Why or why not?"
   ]
  },
  {
   "cell_type": "code",
   "execution_count": null,
   "metadata": {
    "colab": {
     "base_uri": "https://localhost:8080/"
    },
    "executionInfo": {
     "elapsed": 7,
     "status": "ok",
     "timestamp": 1744939090367,
     "user": {
      "displayName": "Halimat Chisom Atanda",
      "userId": "15570808194634360558"
     },
     "user_tz": -600
    },
    "id": "V-BqJfOKON6q",
    "outputId": "a63eb8ea-cc44-4f5d-b338-d18481d7f83b"
   },
   "outputs": [
    {
     "name": "stdout",
     "output_type": "stream",
     "text": [
      "Counter({'CGT': 2, 'ATG': 1, 'TGC': 1, 'GCG': 1, 'GTA': 1, 'TAC': 1, 'ACG': 1, 'GTT': 1, 'TTA': 1, 'TAG': 1, 'AGC': 1})\n",
      "Most common 3-mer: [('CGT', 2)]\n"
     ]
    }
   ],
   "source": [
    "#a k-mer is a substring of a given length k within a biological sequence\n",
    "seq = \"ATGCGTACGTTAGC\"\n",
    "k = 3\n",
    "kmers = [seq[i:i+k] for i in range(len(seq) - k + 1)]\n",
    "print(Counter(kmers))\n",
    "kmers = Counter(kmers)\n",
    "\n",
    "most_common_kmer = kmers.most_common(1)\n",
    "\n",
    "print(f\"Most common {k}-mer: {most_common_kmer}\")\n",
    "\n"
   ]
  },
  {
   "cell_type": "code",
   "execution_count": null,
   "metadata": {
    "colab": {
     "base_uri": "https://localhost:8080/"
    },
    "executionInfo": {
     "elapsed": 7050,
     "status": "ok",
     "timestamp": 1749762365696,
     "user": {
      "displayName": "Adebayo Abdulqohar",
      "userId": "04488705401563346337"
     },
     "user_tz": -60
    },
    "id": "7DEsqxx38ipB",
    "outputId": "296d733c-aa40-44aa-9fd5-68a3e96c52c8"
   },
   "outputs": [
    {
     "name": "stdout",
     "output_type": "stream",
     "text": [
      "cp: cannot stat '/content/drive/MyDrive/HIV_genomes.txt': No such file or directory\n",
      "Collecting biopython\n",
      "  Downloading biopython-1.85-cp311-cp311-manylinux_2_17_x86_64.manylinux2014_x86_64.whl.metadata (13 kB)\n",
      "Requirement already satisfied: numpy in /usr/local/lib/python3.11/dist-packages (from biopython) (2.0.2)\n",
      "Downloading biopython-1.85-cp311-cp311-manylinux_2_17_x86_64.manylinux2014_x86_64.whl (3.3 MB)\n",
      "\u001b[2K   \u001b[90m━━━━━━━━━━━━━━━━━━━━━━━━━━━━━━━━━━━━━━━━\u001b[0m \u001b[32m3.3/3.3 MB\u001b[0m \u001b[31m31.4 MB/s\u001b[0m eta \u001b[36m0:00:00\u001b[0m\n",
      "\u001b[?25hInstalling collected packages: biopython\n",
      "Successfully installed biopython-1.85\n"
     ]
    }
   ],
   "source": [
    "!cp \"/content/drive/MyDrive/HIV_genomes.txt\" \"/content/sample_data\"\n",
    "\n",
    "!pip install biopython"
   ]
  },
  {
   "cell_type": "code",
   "execution_count": null,
   "metadata": {
    "colab": {
     "base_uri": "https://localhost:8080/"
    },
    "executionInfo": {
     "elapsed": 504,
     "status": "ok",
     "timestamp": 1748364346589,
     "user": {
      "displayName": "Adebayo Abdulqohar",
      "userId": "04488705401563346337"
     },
     "user_tz": -60
    },
    "id": "HqncyemCi84m",
    "outputId": "a27384d7-cedf-42a6-ee95-61cb59cdb012"
   },
   "outputs": [
    {
     "name": "stdout",
     "output_type": "stream",
     "text": [
      "Sequence ID: JX679207.1\n",
      "Total nucleotides: 8929\n",
      "G count: 2114\n",
      "C count: 1550\n",
      "GC Content: 41.03%\n",
      "----------------------------------------\n",
      "Sequence ID: AX149771.1\n",
      "Total nucleotides: 9078\n",
      "G count: 2183\n",
      "C count: 1583\n",
      "GC Content: 41.48%\n",
      "----------------------------------------\n"
     ]
    }
   ],
   "source": [
    "# Takes in a FASTA file of DNA sequences (at least 3 sequences in a file)\n",
    "# Calculates the GC content and identifies the most common k-mer (at least 2 values of k)\n",
    "gc_count_script_content = \"\"\"\n",
    "import argparse\n",
    "from Bio import SeqIO\n",
    "from collections import Counter\n",
    "\n",
    "def calculate_gc_content(file_path):\n",
    "    # try:\n",
    "        for record in SeqIO.parse(file_path, \"fasta\"):\n",
    "            # Count the number of G and C\n",
    "            g_count = record.seq.upper().count('G')\n",
    "            c_count = record.seq.upper().count('C')\n",
    "            total_nucleotides = len(record.seq)\n",
    "\n",
    "            # Calculate the GC content\n",
    "            if total_nucleotides == 0:\n",
    "                gc_content = 0.0\n",
    "            else:\n",
    "                gc_content = ((g_count + c_count) / total_nucleotides) * 100  # Calculate as percentage\n",
    "\n",
    "            # Print results for each record\n",
    "            print(f\"Sequence ID: {record.id}\")\n",
    "            print(f\"Total nucleotides: {total_nucleotides}\")\n",
    "            print(f\"G count: {g_count}\")\n",
    "            print(f\"C count: {c_count}\")\n",
    "            print(f\"GC Content: {gc_content:.2f}%\")\n",
    "            print(\"-\" * 40)\n",
    "\n",
    "    # except FileNotFoundError:\n",
    "    #     print(f\"Error: File '{file_path}' not found.\")\n",
    "    # except Exception as e:\n",
    "    #     print(f\"Error processing file: {e}\")\n",
    "\n",
    "if __name__ == \"__main__\":\n",
    "    parser = argparse.ArgumentParser(description=\"GC content analyzer for FASTA sequences\")\n",
    "    parser.add_argument(\"-f\", \"--fasta_file\", required=True, help=\"Path to the FASTA file\")\n",
    "    args = parser.parse_args()\n",
    "\n",
    "    calculate_gc_content(args.fasta_file)\n",
    "\"\"\"\n",
    "\n",
    "# Save it to a file\n",
    "with open(\"gc_count_script.py\", \"w\") as f:\n",
    "    f.write(gc_count_script_content)\n",
    "\n",
    "# Enable script execution permission\n",
    "!chmod +x gc_count_script.py\n",
    "\n",
    "# Run the script\n",
    "!python3 gc_count_script.py -f /content/sample_data/HIV_genomes.fa"
   ]
  },
  {
   "cell_type": "code",
   "execution_count": null,
   "metadata": {
    "colab": {
     "base_uri": "https://localhost:8080/"
    },
    "executionInfo": {
     "elapsed": 512,
     "status": "ok",
     "timestamp": 1748688078971,
     "user": {
      "displayName": "Adebayo Abdulqohar",
      "userId": "04488705401563346337"
     },
     "user_tz": -60
    },
    "id": "2UE0Yxj2nuxx",
    "outputId": "1abe2f69-5aa4-4a93-d5d1-7f19249eb441"
   },
   "outputs": [
    {
     "name": "stdout",
     "output_type": "stream",
     "text": [
      "Sequence ID: JX679207.1\n",
      "DNA Length: 8929 base pairs\n",
      "Protein Sequence: C*LSRLEGERWVRERQY*EGEN*INGKKFG*GQGERNIIG*NT*YGQAGSWKDLHLTLSF*KLQTAVNK**NSYNQLFRQEQRKLNHYSTQ*QFSIVYMQG*KYETPKKP*TG*RKNKTKFKKHRRQKRLTGRSVKIIL*CRISKGKWYISPYHLEL*MHG*K**KRRLLAQK*YPCFQHYQKEPPHKI*TPC*TQWGDIKQLCKC*KKPSMRKLQTGIDCIQCMQGQLHQAR*ESQGEVT*QELLVPFRSK*DG*QIIHLSQ*EKSIKDG*SWD*IK**ECIALPAFWT*DKDQRNPLETM*TGSIKL*EPSKLHKM*KIG*QKPCWSKMRTQIVRLF*KHWGQQLH*KK**QHVREWEGLATKQEYWLRQ*AKQTRP**CREAILKALKELLNVSTVARKGT*PEIAGPLGKKAVGNVERKDTK*KTVLKDRLIF*GNFGLPTRGGQGISSRADQSQQSQQPHQRRASGSRRQPQL*SRNRKTGNL*LPSDHSLATTPCLNKSRGPDKRGSLRHRSR*YSIRRNKFARKMETKNDRRNWRFYQSKTI*SNTYRNLWKKGYRYSISRTHTCQHNWKKSVDSAWLHFKFSHQSY*NCTSKIKARNGWPKG*TMAIDRRENKSINRNL**NGEGRKNYKNWA*KSI*YSNICHKKEGQY*VEKISRFQGTQ*KNSRFLGSSIRNTTPSRVKKEKISDSTGCGGCIFFSSFI*RLQEIYCIHHT**KQ*NTRD*VSI*CASTGMERITSNIPV*HDKNLRAL*GTKSRNSHLSIYG*LVCRL*LRNRAT*SKNRGVKRTSVKVGIYHTRQETSERTSISLDGV*TPS*QMDSTAYTAARKG*LDCQ*YTEVSGKIKLGKSDLPRN*SKATL*TP*GGQSTNRCSTTN*RSRIRIGRKQGNSKRTSTWIIL*PIKRLDS*NTETGAGPMDISNLPRTIQKSENREVCKNEDCPH**CKTVNRGCAENIHGKHSNMGKDS*I*ITHPKRNMGDMVDRLLASHLDS*VGIC*YPSLSKIMVPARERSHSRSRNFLCRWSS*QGN*NRKSRVCY*QRKEESCFSNRNNKSED*TASNLYSFARFRIRSKHSNRLAICIRDHSSTTR*E*IRAS*PNNRTINKEGKGLPVMGTST*RNWRQ*TSR*ISK*WN*ESAISRWNR*SSRRA*KVSQQLESNG**L*YTTRSSKRNSS*L*SMSAKRGSHAWTSRL*PRNMATRLYTLRRKNYPGSSACSQWIYRSRSYSSRNRTRNSILYTKISRKMASQSSTYRQW**FHQCCS*GSLLVGRYPTGIWNSLQSPKSGSSRIHE*RIKDNYRAGKRSS*AP*DSSTNGSIHSQF*KKRGDWGVQCRGKNNRHNSNRHTN*RITKTNYKSSKFSGLLQRQQRSHLERTSQTTLER*RGSSNTR***HKGSTKEESKNH*GLWKTDGRC*LCGR*TG*RLEHGIV**NTICISQRELRDGFTDIIMKADIQK*VQKYTSH*GRLD***KHTGGCNQEKESGIWVMESP*NGD*EDIPHK*NQAWQTS*FICIILIVLQTLP*GKPY*DT*LFLGVTIKQDIIIR*DLYNIWH*QH**NQKR*NHLCLVLRN**RIDGTTPRRSGAAEGTIQ*MDTRASRGTQAGSCQTLS*TMAS*LRTIYL*NIWGYLGRSRSPTKNSATTDVYSFQNWVPA*QNRHFETEKSKKWSQ*ILT*SPGTIQEVSLKLLAITAIVNAVATIV*FAFREKA*AFPMAGRSGDNDEALLRAVRIIKILYQSSKYL*CYI*IIE*G**HW**H*S*Q*LCGP*YI*NIGNW*DKGK*TG*LKELGKEQKTVAMRVRGTLRNYQQWWIWGVLGFWMLMICNGGGKVEKDLWVTVYYGVPVWKEAKTTLFCASDAKAYDTEVHNVWATHACVPTDPNPQEMVLGNVTENFNMWKNEMVDQMQEDVISLWDQSLKPCVKLTPLCVTLECKNVSKHNASVTNSTLSGTYNESGQEIKNCTFNVTTELRDKKKKEYALFYRLDIVPLDEENSSNNSTSNNSSGNYRLINCNTSAITQACPKVNFDPIPIHYCTPAGYAILKCNNKTFNGTGPCNNVSTVQCTHGIKPVVSTQLLLNGSLAEEEIIIRSENLTDNVKTIIVHLNKPVEIECIRPNNNTRKSIRIGPGQTFYATGEIIGDIRQAYCIINASQWNETLYNVSKKLAERFNNRTINFTSSSGGDLEITTHSFNCRGEFFYCNTSRLFNSTYMSNGTYTYTINSNISNITIPCRIKQIVNMWQEVGRAMYAPPIAGNITCKSNITGLLLVRDGGSNETQPEIFRPGGGDMRDNWRSELYKYKVVEIKPLGLAPTTAKRRVVEREKRAVGIGAVFLGFLGAAGSTMGAASITLTVQARQLLSGIVQQQSNLLKAIEAQQHLLQLTVWGIKQLQTRVLAIERYLKDQQLLGIWGCSGRLICTTAVPWNSSWSNKTQKEIWDNMTWMEWDREINNYTDTIYRLLEESQNQQEKNEKDLLALDSWNNLWNWFNITNWLWYIRIFIMIVGGLIGLRIIFAVLSVVNRVRQGYSPLSFQIHTPNPGGPDRLGRIEEEGGEQDKNRSVRLVSGFLALVWDDLRNLCLFSYHQLRDFILVTARVVELLGRSSLRGLQKGWEALKYLGSLVQYWGLELKKSAISLFDSIAIAVAEGTDRIIEFIRRICRAIRNIPRRIRQGFEIALQ*NGGQMVKK*HSWMACYKGENETN*ATN*AGSRRSRSSISRLR*TWSTYNQQHRHQ*C*LCLAEGARGGRRSRLSSQTSGASKTNDF*GSI*SQLLFKRKGGTGRVNLLQEKARDP*FMGLSHTRLLP*LGQLHTRTRGQIPTDLWVVLQASTS*PK*NRSGQRRRRQLLATPYGPAWNGG*TQRSIKVEV*QYASTQTHGPRAASGVLQRLLTQKELC*YRRDFPRGLSAGAFPEEWSGRDWEWSTLRCCI*AAAFRLYWVSLGRPDLSLGALWLSREPTA*ASX\n",
      "Protein Length: 2977 amino acids\n",
      "Amino Acid Composition: {'A': 0.04366812227074236, 'C': 0.024521330198186093, 'D': 0.029224051058112193, 'E': 0.0433322136378905, 'F': 0.022841787033926773, 'G': 0.06818945246892845, 'H': 0.023177695666778634, 'I': 0.06147127981189117, 'K': 0.06751763520322472, 'L': 0.07457171649311388, 'M': 0.014444071212630165, 'N': 0.05979173664763184, 'P': 0.030903594222371513, 'Q': 0.05038629492777964, 'R': 0.08263352368155863, 'S': 0.08632851864292912, 'T': 0.0658380920389654, 'V': 0.0376217668794088, 'W': 0.023849512932482365, 'Y': 0.027544507893852873}\n",
      "--------------------------------------------------\n",
      "Sequence ID: AX149771.1\n",
      "DNA Length: 9078 base pairs\n",
      "Protein Sequence: NL*QWRPNRDLKAKVRPEEISRRRTRLAEVHSARGESGDW*VRQLYLTSGG*KERDGCESVNIKRGKIR*MGKN*VKARGKETLYAKTPSMGKQGAGKICT*PWPFRDIRRL*TNNETATISSSDRNRGT*IIIQHSSNSLLCTYRDRCTRHQRSLRQDRGRTKQNSAKNTAGKGG*REGQSKLSYSTESPRANGTSAHIT*NFKCMGKSGRREGF*PRSNTHVFSVIRRSHPTRFKHHAKHSGGTSSSYANIKRYHQ*RGCRMG*ITSSTCRAYCTRPNERTKGK*HSRNY**PTGTNSMDDE*PTCSSRRHL*KMDNSGIK*NSKNV*PYQHSGHKTRAKGTL*RLCRPVL*NFKSGTSYARCKKLDDRHLVGPKCEPRL*DHFKSIRTRGFNRRNDDSMSGSGRT*P*SKSVGRGNEPNKQCHTDAEKQF*RL*KNC*MFQLWQGRAHSQKLQGP*EKGLLEMWKRRTPNERLY*ETGQFFRENLALPQGRAREFSSEQTRANSPTRGELQVWGRDNNSISEAGANRQGTISFNFPQITLWQRPLVTIKIGGQLKEALLDTGAGDTVLEDLNLPGKWKPKMIGGIGGFIKVRQYEQIPIEICGHKAIGTVLVGPTPVNIIGRNLLTQLGCTLNFPISPIETVPVKLKPGMDGPKVKQWPLTEEKIKALTAICDEMEKEGKITKIGPENPYNTPIFAIKKKDSTKWRKLVDFRELNKRTQDFWEVQLGIPHPAGLKKKKSVTVLDVGDAYFSIPLYEDFRKYTAFTIPSRNNETPGIRYQYNVLPQGWKGSLAIFQSSMTKTLEPFRKQNPGIVIYQYMDDLYVGSDLEIGQHRTKIEELRQHLLRWGFTTPDKKH*KEPPFLWMGYELHPDKWTVQPTQLPEKDSWTVNDIQKLVGKLNWASQIYPGIKVRQLCKLLRGAKALTDIVPLTEEAELELAENREILKEPVHGVYYDPSKDLIAEIQKQGQEQWTYQIYQEPFKNLKTGKYAKMRTAHTNDVKQLTEAVQKIAMEGIVIWGKTPKFRLPIQKETWETWWTDYWQATWIPEWEFVNTPPLVKLWYQLEKDPIVGVETFYVDGAANRETKIGKAGYVTDRGRKKIVSLTETTNQKTELQAICIALQDSGSEVNIVTDSQYALGIIQAQPDKSESELVNQIIEQLMKKERVYLSWVPAHKGIGGNEQVDKLVSSGIRKVLFLDGIDKAQEEHEKYHSNWRAMASDFNLPPIVAKEIVASCDQCQLKGEAMHGQVDCSPGIWQLDCTHLEGKIILVAVHVASGYMEAEVIPAETGQETAYFILKLAGRWPVKVIHTDNGSNFTSTAVKAACWWAGIQQEFGIPYSPQSQGVVEAMNKELKKIIGQVRDQAEHLKTAVLMAVFIHNFKRKGGIGGYSAGERIIDIIATDIQTKELQKQITKIQNFRVYYRDSRDPSWKGPAKLLWKGEGAVIIQDNSDIKVVPRRKAKIIKDYGKQMAGADCVAGRQDED*NME*FSKTPYVCFKES*WMVLQTSL*QQTSKSKFRSTHPIRKG*ISNKNILGVADRRKRSAFGSWSLHRMEIEKIYHTNRTWPGRPANSFVLF*LFCRL*YKESHIRTHSYS*V*LSSRT***GRISTILGTDSIDKTKKDKATSA*YQEISRG*MEQSPGDQGPQREPHNEWTLELLEELKQEAVRHFPRPWLHSLGQHIYETYGDTWAGVEAIIRILQQLLFIHFRIGCQHSRIGILRQRRTRNGASKS*IRALGASRKSA*DCL*QLLL*KVLLSLPSLFHEKRLRHLLWQEEAKTATKRSSKQ*GSSKSYIKAVSSKCNASFNHFSNSSLSSSNNNSNSCVDHSIHRI*ENIKTEKNRQVN**NKRKSRRQWQ*G*RGSGRIIGIYGDGAPCSLGC**SVVL*ETCGSQSIMGYLYGKGQPPLYFVHQMLKHMIQRYIMFGLHMPVYPQTPTHKKWFWKM*QKILTCGKMKW*IRCRKM*SVYGIKA*NHV*S*PHSVSL*NVEMLAVIVMIPTMRPTMRA*RK*KIALSMQPQ**EIGSRQCMHFFIDLI*YHLLRRTIVRILVSIID**IVIPQP*HKPVQRSLLIQFLYTIALQLVMQF*SVMIRYSMGQDHAIMLAQYNVHMGLSQWYQLNYC*MVA*QKEK**LDLKI*QTMSKQ**YILINL*KLYVQDPAIIQEKV*G*DQDKHSMQQET**ET*DKHIVTLVKINGMKLYKG*VKN*QNTSRIKQ*NLHHPQEGT*KLQHIALIVEENFSIVIHQACLMVHTRLMVQKVIQAQSSQSHAE*SKL*ICGRR*DEQCMPLP*KET*HVNQISQDYYWYVMEEQSQMIQRHSDLEEEI*GTIGEVNYINIKW*KLSHWE*HPLQQKGEWWREKKEQWE*ELCSLGS*E*QEALWARRQ*R*RYRPDNCCLV*CNSKAIC*GL*KRNSICCNSRSGALSSSRQESWL*KDT*RINSS*GFGAALENSSALLLYLGTPVGVTNLKKRFGIT*PGCNGIKKLVITQTQYTGCLKNRKTSRKGMKKIY*HWTVGKIYGVGLT*QIGCGI*KYS****EA**V*E*FLLCSL**IELGRDTHLCRFRPLPRTQGDPTGSEESKKKVESKTGTDPFD**TDS*RLPGTTCGTCASSATTD*GTSH*WQRGWWNFWDAIVSGDYREGGKPLNIWEVLCSTGVRS*KRVLLVWLIP*Q*Q*LKEQIGL*N*YKDFVELSTAYLEE*DRALKQLCNKMGGKWSKSSIVGWPAIRERMRRTEPAADGVGAVSRDLEKHGAITSSNTAATNEDCAWLEAQEEGEVGFPVRPQVPLRPMTYKGAVDLSFFLKEKGGLEGLIYSKKRQEILDLWVYHTQGYFPDWHNYTPGPGVRFPLTFGWCFKLVPVDPREVEEANEGEDNCLLHPVCQHGMEDDHREVLKWKFDSQLAHRHRARELHPEFYKDC*HRRDFPRGLSTGAF*EVWSGGTGSGQPSNAAYKQLLFACTGSL*SDQI*AWELSG*LGNPLLKPQ*SLP*GARAAATAVELQLLFPLVRVNCALAI\n",
      "Protein Length: 3026 amino acids\n",
      "Amino Acid Composition: {'A': 0.04890945142101785, 'C': 0.02115003304692664, 'D': 0.03668208856576338, 'E': 0.05816259087904825, 'F': 0.026437541308658295, 'G': 0.07204230006609386, 'H': 0.0287508261731659, 'I': 0.062128222075346996, 'K': 0.07633840052875082, 'L': 0.07766027759418374, 'M': 0.02015862524785195, 'N': 0.0380039656311963, 'P': 0.04362194315928619, 'Q': 0.055188367481824194, 'R': 0.06411103767349637, 'S': 0.06774619960343688, 'T': 0.055188367481824194, 'V': 0.04890945142101785, 'W': 0.02313284864507601, 'Y': 0.028420356906807668}\n",
      "--------------------------------------------------\n"
     ]
    }
   ],
   "source": [
    "#DNA to Protein sequence converter\n",
    "# Converts the DNA into protein sequences (check dictionary from phase 1)\n",
    "# DNA sequence file path\n",
    "from Bio import SeqIO\n",
    "from Bio.SeqUtils.ProtParam import ProteinAnalysis\n",
    "from collections import defaultdict\n",
    "from collections import Counter\n",
    "\n",
    "file_path = \"/content/sample_data/HIV_genomes.fa\"\n",
    "\n",
    "# Dictionary for DNA to protein conversion\n",
    "def dna_to_protein_converter (dna_sequence):\n",
    "  # # split the nucleotide(DNA) sequence into codons (3-letter groups)\n",
    "  # codons = [dna_sequence[i: i +3] for i in range (0, len(dna_sequence), 3)]\n",
    "\n",
    "  # define the translating reference/codon table that maps codon to their corresponding amino acid\n",
    "  codon_table = {\n",
    "  \"ATA\": \"I\", \"ATC\": \"I\", \"ATT\": \"I\", \"ATG\": \"M\",\n",
    "  \"ACA\": \"T\", \"ACC\": \"T\", \"ACG\": \"T\", \"ACT\": \"T\",\n",
    "  \"AAC\": \"N\", \"AAT\": \"N\", \"AAA\": \"K\", \"AAG\": \"K\",\n",
    "  \"AGC\": \"S\", \"AGT\": \"S\", \"AGA\": \"R\", \"AGG\": \"R\",\n",
    "  \"CTA\": \"L\", \"CTC\": \"L\", \"CTG\": \"L\", \"CTT\": \"L\",\n",
    "  \"CCA\": \"P\", \"CCC\": \"P\", \"CCG\": \"P\", \"CCT\": \"P\",\n",
    "  \"CAC\": \"H\", \"CAT\": \"H\", \"CAA\": \"Q\", \"CAG\": \"Q\",\n",
    "  \"CGA\": \"R\", \"CGC\": \"R\", \"CGG\": \"R\", \"CGT\": \"R\",\n",
    "  \"GTA\": \"V\", \"GTC\": \"V\", \"GTG\": \"V\", \"GTT\": \"V\",\n",
    "  \"GCA\": \"A\", \"GCC\": \"A\", \"GCG\": \"A\", \"GCT\": \"A\",\n",
    "  \"GAC\": \"D\", \"GAT\": \"D\", \"GAA\": \"E\", \"GAG\": \"E\",\n",
    "  \"GGA\": \"G\", \"GGC\": \"G\", \"GGG\": \"G\", \"GGT\": \"G\",\n",
    "  \"TCA\": \"S\", \"TCC\": \"S\", \"TCG\": \"S\", \"TCT\": \"S\",\n",
    "  \"TTC\": \"F\", \"TTT\": \"F\", \"TTA\": \"L\", \"TTG\": \"L\",\n",
    "  \"TAC\": \"Y\", \"TAT\": \"Y\", \"TAA\": \"*\", \"TAG\": \"*\",\n",
    "  \"TGC\": \"C\", \"TGT\": \"C\", \"TGA\": \"*\", \"TGG\": \"W\"\n",
    "  }\n",
    "\n",
    "  # Process each sequence in the FASTA file\n",
    "  for record in SeqIO.parse(file_path, \"fasta\"):\n",
    "    dna_sequence = str(record.seq).upper()\n",
    "    protein_sequence = []\n",
    "\n",
    "    # Translate DNA into protein (codon of 3)\n",
    "    for i in range(0, len(dna_sequence), 3):\n",
    "      codon = dna_sequence[i: i+3]\n",
    "      amino_acid = codon_table.get(codon, \"X\")\n",
    "      protein_sequence.append(amino_acid)\n",
    "\n",
    "    protein_sequence = ''.join(protein_sequence)\n",
    "    # return protein_sequence\n",
    "\n",
    "    #Analyze the amino acid composition using Biopython's ProteinAnalysis\n",
    "    protein_analysis = ProteinAnalysis(protein_sequence)\n",
    "    composition = protein_analysis.get_amino_acids_percent()  # Returns % of each AA\n",
    "\n",
    "    # print(composition)\n",
    "    print(f\"Sequence ID: {record.id}\")\n",
    "    print(f\"DNA Length: {len(dna_sequence)} base pairs\")\n",
    "    print(f\"Protein Sequence: {protein_sequence}\")\n",
    "    print(f\"Protein Length: {len(protein_sequence)} amino acids\")\n",
    "    print(f\"Amino Acid Composition: {composition}\")\n",
    "    print(\"-\" * 50)\n",
    "\n",
    "dna_to_protein_converter(file_path)"
   ]
  },
  {
   "cell_type": "code",
   "execution_count": null,
   "metadata": {
    "colab": {
     "background_save": true,
     "base_uri": "https://localhost:8080/"
    },
    "executionInfo": {
     "elapsed": 758,
     "status": "ok",
     "timestamp": 1749073982921,
     "user": {
      "displayName": "Adebayo Abdulqohar",
      "userId": "04488705401563346337"
     },
     "user_tz": -60
    },
    "id": "WrIjHjujlTxE",
    "outputId": "3c660161-6710-4618-c9bc-96d4641e7b1c"
   },
   "outputs": [],
   "source": [
    "phase2_script_content = \"\"\"\n",
    "import csv\n",
    "import argparse\n",
    "from Bio import SeqIO\n",
    "from Bio.SeqUtils.ProtParam import ProteinAnalysis\n",
    "from collections import Counter\n",
    "\n",
    "file_path = \"/content/sample_data/HIV_genomes.fa\"\n",
    "\n",
    "# define polar & non-polar amino acids\n",
    "POLAR_AA = set(['D', 'E', 'H', 'K', 'N', 'Q', 'R', 'S', 'T', 'Y'])\n",
    "NON_POLAR_AA = set(['A', 'C', 'F', 'G', 'I', 'L', 'M', 'P', 'V', 'W'])\n",
    "\n",
    "# define the translating reference/codon table that maps codon to their corresponding amino acid\n",
    "codon_table = {\n",
    "  \"ATA\": \"I\", \"ATC\": \"I\", \"ATT\": \"I\", \"ATG\": \"M\",\n",
    "  \"ACA\": \"T\", \"ACC\": \"T\", \"ACG\": \"T\", \"ACT\": \"T\",\n",
    "  \"AAC\": \"N\", \"AAT\": \"N\", \"AAA\": \"K\", \"AAG\": \"K\",\n",
    "  \"AGC\": \"S\", \"AGT\": \"S\", \"AGA\": \"R\", \"AGG\": \"R\",\n",
    "  \"CTA\": \"L\", \"CTC\": \"L\", \"CTG\": \"L\", \"CTT\": \"L\",\n",
    "  \"CCA\": \"P\", \"CCC\": \"P\", \"CCG\": \"P\", \"CCT\": \"P\",\n",
    "  \"CAC\": \"H\", \"CAT\": \"H\", \"CAA\": \"Q\", \"CAG\": \"Q\",\n",
    "  \"CGA\": \"R\", \"CGC\": \"R\", \"CGG\": \"R\", \"CGT\": \"R\",\n",
    "  \"GTA\": \"V\", \"GTC\": \"V\", \"GTG\": \"V\", \"GTT\": \"V\",\n",
    "  \"GCA\": \"A\", \"GCC\": \"A\", \"GCG\": \"A\", \"GCT\": \"A\",\n",
    "  \"GAC\": \"D\", \"GAT\": \"D\", \"GAA\": \"E\", \"GAG\": \"E\",\n",
    "  \"GGA\": \"G\", \"GGC\": \"G\", \"GGG\": \"G\", \"GGT\": \"G\",\n",
    "  \"TCA\": \"S\", \"TCC\": \"S\", \"TCG\": \"S\", \"TCT\": \"S\",\n",
    "  \"TTC\": \"F\", \"TTT\": \"F\", \"TTA\": \"L\", \"TTG\": \"L\",\n",
    "  \"TAC\": \"Y\", \"TAT\": \"Y\", \"TAA\": \"*\", \"TAG\": \"*\",\n",
    "  \"TGC\": \"C\", \"TGT\": \"C\", \"TGA\": \"*\", \"TGG\": \"W\"\n",
    "  }\n",
    "\n",
    "# a dictionary/function that calculates the GC content\n",
    "def calculate_gc_content(file_path, writer):\n",
    "  for record in SeqIO.parse(file_path, \"fasta\"):\n",
    "    # Count the number of G and C\n",
    "    g_count = record.seq.upper().count('G')\n",
    "    c_count = record.seq.upper().count('C')\n",
    "    total_nucleotides = len(record.seq)\n",
    "\n",
    "    # Calculate the GC content\n",
    "    if total_nucleotides == 0:\n",
    "        gc_content = 0.0\n",
    "    else:\n",
    "        gc_content = ((g_count + c_count) / total_nucleotides) * 100  # Calculate as percentage\n",
    "\n",
    "    #write to a csv file\n",
    "    writer.writerow([\n",
    "        record.id,\n",
    "        total_nucleotides,\n",
    "        g_count,\n",
    "        c_count,\n",
    "        f'{gc_content:.2f}%',\n",
    "        '',  # Placeholder for DNA Length (filled in later)\n",
    "        '',  # Placeholder for Protein Sequence\n",
    "        '',  # Placeholder for Protein Length\n",
    "        '',  # Placeholder for Amino Acid Composition\n",
    "        '',  # Placeholder for Polar AA %\n",
    "        ''   # Placeholder for Non-Polar AA %\n",
    "    ])\n",
    "\n",
    "    # # Print results for each record\n",
    "    print(f\"Sequence ID: {record.id}\")\n",
    "    print(f\"Total nucleotides: {total_nucleotides}\")\n",
    "    print(f\"G count: {g_count}\")\n",
    "    print(f\"C count: {c_count}\")\n",
    "    print(f\"GC Content: {gc_content:.2f}%\")\n",
    "    print(\"-\" * 40)\n",
    "\n",
    "# a function that calculates the percentage of polar & non-polar amino acids\n",
    "def analyze_polarity(protein_sequence):\n",
    "  # calculate percentage of polar and non-polar amino acids\n",
    "  clean_seq = protein_sequence.replace('*', '').replace('X', '')\n",
    "  total_count =  len(clean_seq)\n",
    "\n",
    "  polar_aminoacid_count = sum(1 for aa in clean_seq if aa in POLAR_AA)\n",
    "  nonpolar_aminoacid_count = sum(1 for aa in clean_seq if aa in NON_POLAR_AA)\n",
    "\n",
    "  percentage_of_polar_aminoacid =   (polar_aminoacid_count / total_count) * 100\n",
    "  percentage_of_nonpolar_aminoacid = (nonpolar_aminoacid_count / total_count) * 100\n",
    "\n",
    "  return percentage_of_polar_aminoacid, percentage_of_nonpolar_aminoacid\n",
    "\n",
    "# Dictionary for DNA to protein conversion\n",
    "def dna_to_protein_converter (file_path, writer):\n",
    "  # Process each sequence in the FASTA file\n",
    "  for record in SeqIO.parse(file_path, \"fasta\"):\n",
    "    dna_sequence = str(record.seq).upper()\n",
    "    protein_sequence = []\n",
    "\n",
    "    # Translate DNA into protein (codon of 3)\n",
    "    for i in range(0, len(dna_sequence), 3):\n",
    "      codon = dna_sequence[i: i+3]\n",
    "      amino_acid = codon_table.get(codon, \"X\")\n",
    "      protein_sequence.append(amino_acid)\n",
    "\n",
    "    protein_sequence = ''.join(protein_sequence)\n",
    "\n",
    "    # Analyze the amino acid composition using Biopython's ProteinAnalysis method\n",
    "    protein_analysis = ProteinAnalysis(protein_sequence)\n",
    "    # Get the percentage of amino acid composition\n",
    "    amino_acid_composition = protein_analysis.get_amino_acids_percent()\n",
    "\n",
    "    percentage_of_polar_aminoacids, percentage_of_nonpolar_aminoacids = analyze_polarity(protein_sequence)\n",
    "\n",
    "    # Print results for each record\n",
    "    print(f\"Sequence ID: {record.id}\")\n",
    "    # print(f\"DNA Length: {len( dna_sequence )} basepairs\")\n",
    "    print(f\"Protein Sequence: {protein_sequence}\")\n",
    "    print(f\"Length: {len(protein_sequence)}\")\n",
    "    print(f\"Amino acid composition: {amino_acid_composition}\")\n",
    "    print(f\"Percentage of Polar Amino acids in {record.id}: {percentage_of_polar_aminoacids:.2f}%\")\n",
    "    print(f\"Percentage of Non-Polar Amino acids in {record.id}: {percentage_of_nonpolar_aminoacids:.2f}%\")\n",
    "    print(\"-\" * 50)\n",
    "\n",
    "    # Update the corresponding row in the CSV data\n",
    "    if i < len(rows):\n",
    "      rows[i][5] = len(dna_sequence)\n",
    "      rows[i][6] = protein_sequence\n",
    "      rows[i][7] = len(protein_sequence)\n",
    "      rows[i][8] = str(amino_acid_composition)\n",
    "      rows[i][9] = f'{percentage_of_polar_aminoacids:.2f}'\n",
    "      rows[i][10] = f'{percentage_of_nonpolar_aminoacids:.2f}'\n",
    "\n",
    "    # Write the updated data back to the CSV file\n",
    "    with open(\"result_phase2_assignment.csv\", \"w\", newline=\"\") as csvfile:\n",
    "        writer = csv.writer(csvfile)\n",
    "        writer.writerow([\n",
    "          \"Sequence ID\",\n",
    "          \"Total Nucleotide Len.\",\n",
    "          \"G Count\",\n",
    "          \"C Count\",\n",
    "          \"GC Content\",\n",
    "          \"DNA Length\",\n",
    "          \"Protein Sequence\",\n",
    "          \"Protein Length\",\n",
    "          \"Amino Acid Composition\",\n",
    "          \"Percentage of Polar Amino acids\",\n",
    "          \"Percentage of Non-Polar Amino acids\"\n",
    "    ])\n",
    "    writer.writerows(rows)\n",
    "\n",
    "if __name__ == \"__main__\":\n",
    "  parser = argparse.ArgumentParser(description=\"GC content analyzer for FASTA sequences\")\n",
    "  parser.add_argument(\"-f\", \"--fasta_file\", required=True, help=\"Path to the FASTA file\")\n",
    "  args = parser.parse_args()\n",
    "\n",
    "  # Initialize the CSV file with headers\n",
    "  with open(\"result_phase2_assignment.csv\", \"w\", newline=\"\") as csvfile:\n",
    "    writer = csv.writer(csvfile)\n",
    "    writer.writerow([\n",
    "        \"Sequence ID\",\n",
    "        \"Total Nucleotide Len.\",\n",
    "        \"G Count\",\n",
    "        \"C Count\",\n",
    "        \"GC Content\",\n",
    "        \"DNA Length\",\n",
    "        \"Protein Sequence\",\n",
    "        \"Protein Length\",\n",
    "        \"Amino Acid Composition\",\n",
    "        \"Percentage of Polar Amino acids\",\n",
    "        \"Percentage of Non-Polar Amino acids\"\n",
    "    ])\n",
    "\n",
    "  # First calculate GC content\n",
    "    with open(\"result_phase2_assignment.csv\", \"a\", newline=\"\") as csvfile:\n",
    "        writer = csv.writer(csvfile)\n",
    "        calculate_gc_content(args.fasta_file, writer)\n",
    "\n",
    "    # Then add protein translation information\n",
    "    dna_to_protein_converter(args.fasta_file, None)\n",
    "\n",
    "    calculate_gc_content(args.fasta_file, writer)\n",
    "    dna_to_protein_converter(args.fasta_file, writer)\n",
    "\"\"\"\n",
    "\n",
    "# Save it to a file\n",
    "with open(\"phase2_script.py\", \"w\") as f:\n",
    "    f.write(phase2_script_content)\n",
    "\n",
    "# Enable script execution permission\n",
    "!chmod +x phase2_script.py\n",
    "\n",
    "# Run the script\n",
    "!python3 phase2_script.py -f /content/sample_data/HIV_genomes.fa"
   ]
  },
  {
   "cell_type": "code",
   "execution_count": null,
   "metadata": {
    "colab": {
     "base_uri": "https://localhost:8080/"
    },
    "executionInfo": {
     "elapsed": 107,
     "status": "ok",
     "timestamp": 1748553934127,
     "user": {
      "displayName": "Adebayo Abdulqohar",
      "userId": "04488705401563346337"
     },
     "user_tz": -60
    },
    "id": "Mu7LlsUU5cLA",
    "outputId": "44e8c75d-8aa2-4f10-bb62-9b7a7dac647b"
   },
   "outputs": [
    {
     "name": "stdout",
     "output_type": "stream",
     "text": [
      "Counter({'SR': 31, 'RL': 26, 'RS': 25, 'SS': 25, 'RN': 24, 'LL': 24, 'ST': 23, 'SK': 20, 'NR': 20, 'SN': 20, 'GS': 19, '**': 19, 'SI': 19, 'RR': 19, 'KK': 18, 'RI': 18, 'LG': 18, 'SG': 18, 'TS': 18, 'II': 17, 'KN': 17, 'GR': 17, 'LR': 17, 'GG': 17, 'AS': 17, 'G*': 16, '*N': 16, 'NS': 16, 'RK': 16, 'TG': 16, 'IS': 16, 'IK': 16, 'KS': 16, 'RG': 16, 'LS': 15, '*K': 15, 'QL': 15, 'KR': 15, 'L*': 15, 'SQ': 15, 'TR': 15, 'SL': 15, 'IR': 15, '*L': 14, 'RQ': 14, 'GK': 14, '*T': 14, 'LA': 14, 'KE': 14, 'GT': 14, 'TI': 14, 'S*': 14, 'GQ': 13, 'NI': 13, 'TL': 13, 'LQ': 13, 'K*': 13, 'QE': 13, 'KT': 13, 'GL': 13, 'AI': 13, 'RA': 13, 'TT': 13, 'ER': 12, 'NG': 12, 'TQ': 12, 'Q*': 12, '*Q': 12, 'QK': 12, 'GI': 12, 'RT': 12, 'QQ': 12, 'EI': 12, 'NN': 12, 'LE': 11, 'RE': 11, 'AG': 11, 'QT': 11, 'IV': 11, 'TP': 11, 'KG': 11, 'AR': 11, 'R*': 11, 'EK': 11, 'AT': 11, 'LK': 11, 'VS': 11, 'NL': 11, 'IT': 11, 'EG': 10, '*G': 10, 'QG': 10, 'NT': 10, 'KD': 10, 'NK': 10, 'QR': 10, 'KI': 10, 'EL': 10, 'I*': 10, 'CI': 10, '*S': 10, 'AL': 10, 'QS': 10, 'RD': 10, 'TN': 10, 'GE': 9, 'N*': 9, 'T*': 9, '*Y': 9, 'DL': 9, 'HL': 9, 'KL': 9, 'TA': 9, 'AV': 9, 'LF': 9, 'ET': 9, 'P*': 9, '*R': 9, 'TK': 9, 'IL': 9, 'LC': 9, 'ES': 9, 'LV': 9, 'KA': 9, 'NV': 9, 'GP': 9, 'GN': 9, 'VL': 9, 'NW': 9, 'YR': 9, 'DS': 9, 'YT': 9, 'GA': 9, 'EE': 9, 'VR': 8, '*E': 8, 'EN': 8, '*I': 8, 'IN': 8, 'IG': 8, 'QA': 8, 'LT': 8, 'YS': 8, 'KP': 8, 'CR': 8, 'WG': 8, 'GD': 8, 'DI': 8, 'KQ': 8, 'VT': 8, 'LP': 8, 'TV': 8, 'VE': 8, 'HS': 8, 'LW': 8, 'HT': 8, 'SA': 8, 'SH': 8, 'IC': 8, 'RV': 8, 'LD': 8, 'LY': 8, 'WN': 8, 'TD': 8, 'C*': 7, 'VN': 7, 'VK': 7, 'PC': 7, 'EV': 7, 'VP': 7, 'DG': 7, 'IH': 7, 'WS': 7, 'H*': 7, '*A': 7, 'VG': 7, 'DR': 7, 'PT': 7, 'TY': 7, 'NY': 7, 'GV': 7, 'AA': 7, 'PR': 7, 'NE': 7, 'IW': 7, 'FN': 7, 'WV': 6, 'WK': 6, 'LH': 6, 'SF': 6, 'NQ': 6, 'FR': 6, 'FS': 6, 'PK': 6, 'KH': 6, 'SV': 6, '*C': 6, 'SP': 6, 'QH': 6, 'PS': 6, 'HQ': 6, '*D': 6, 'IA': 6, 'DK': 6, 'PL': 6, 'TH': 6, 'MA': 6, 'FL': 6, 'IY': 6, 'IP': 6, 'KV': 6, 'TE': 6, 'AE': 6, 'NM': 6, 'VQ': 6, 'CN': 6, 'IE': 6, 'VV': 6, 'Y*': 5, 'KF': 5, 'SW': 5, 'F*': 5, 'YN': 5, 'LN': 5, 'KY': 5, 'HG': 5, 'HK': 5, 'QW': 5, 'CK': 5, 'IQ': 5, 'QI': 5, 'WD': 5, 'D*': 5, 'PA': 5, 'AF': 5, 'DQ': 5, 'AK': 5, 'EA': 5, '*P': 5, 'DT': 5, 'LI': 5, 'IF': 5, 'NF': 5, 'RH': 5, 'RF': 5, 'CT': 5, 'YK': 5, 'A*': 5, 'GC': 5, 'FI': 5, 'PV': 5, 'V*': 5, '*H': 5, 'SE': 5, 'MG': 5, 'MV': 5, 'PG': 5, 'DN': 5, 'GF': 5, 'YL': 5, 'YA': 5, 'QY': 4, 'YG': 4, 'SY': 4, 'YI': 4, 'YP': 4, 'FQ': 4, 'YQ': 4, 'PH': 4, 'MR': 4, 'QC': 4, 'TM': 4, 'KM': 4, 'EW': 4, 'WL': 4, 'RP': 4, 'VA': 4, 'SD': 4, 'CL': 4, 'FA': 4, 'ME': 4, 'FY': 4, 'GY': 4, 'HN': 4, 'AW': 4, 'NC': 4, '*V': 4, 'YC': 4, 'CS': 4, 'PI': 4, 'ED': 4, 'PN': 4, 'AC': 4, '*F': 4, 'VW': 4, 'RW': 3, 'EQ': 3, 'NH': 3, 'HY': 3, 'VY': 3, 'MQ': 3, 'FK': 3, 'HR': 3, 'PY': 3, 'YH': 3, 'EP': 3, 'ID': 3, 'DC': 3, 'EC': 3, 'NP': 3, 'WE': 3, 'YW': 3, 'PE': 3, 'QP': 3, 'PD': 3, 'ND': 3, 'WR': 3, 'RY': 3, 'CQ': 3, 'VD': 3, 'CG': 3, 'CA': 3, 'VC': 3, 'QM': 3, 'MD': 3, 'AY': 3, 'RC': 3, 'TW': 3, 'WI': 3, 'IM': 3, 'CY': 3, 'E*': 3, 'W*': 3, 'AP': 3, 'QN': 3, 'NA': 3, 'FP': 3, 'WM': 3, 'CV': 3, 'DP': 3, 'TF': 3, 'DF': 3, 'FG': 2, 'QF': 2, 'YM': 2, 'KW': 2, 'WY': 2, '*M': 2, 'AQ': 2, 'CF': 2, 'PP': 2, 'KC': 2, 'SM': 2, 'FW': 2, 'WT': 2, 'M*': 2, 'HW': 2, 'EY': 2, 'AD': 2, 'PQ': 2, 'DH': 2, 'TC': 2, 'HF': 2, 'GW': 2, 'WA': 2, 'FF': 2, 'PM': 2, 'CP': 2, 'DM': 2, 'SC': 2, 'VM': 2, 'MS': 2, 'HA': 2, 'CC': 2, 'DW': 2, 'FT': 2, 'WQ': 2, 'QD': 2, 'DV': 2, 'FE': 2, 'DE': 2, 'AM': 2, 'MI': 2, 'VH': 2, 'EM': 2, 'MW': 2, 'FD': 2, 'EF': 2, 'YE': 1, 'MH': 1, 'CM': 1, 'PF': 1, 'CW': 1, 'HV': 1, 'WP': 1, 'CH': 1, 'HH': 1, 'GM': 1, 'HD': 1, 'HP': 1, '*W': 1, 'FH': 1, 'HE': 1, 'EH': 1, 'MK': 1, 'WH': 1, 'WW': 1, 'ML': 1, 'LM': 1, 'YY': 1, 'FC': 1, 'DA': 1, 'YD': 1, 'VI': 1, 'MY': 1, 'VF': 1, 'PW': 1, 'MT': 1, 'WF': 1, 'DD': 1, 'FM': 1, 'SX': 1})\n",
      "Most common 2-mer: [('SR', 31)]\n"
     ]
    }
   ],
   "source": [
    "seq = \"C*LSRLEGERWVRERQY*EGEN*INGKKFG*GQGERNIIG*NT*YGQAGSWKDLHLTLSF*KLQTAVNK**NSYNQLFRQEQRKLNHYSTQ*QFSIVYMQG*KYETPKKP*TG*RKNKTKFKKHRRQKRLTGRSVKIIL*CRISKGKWYISPYHLEL*MHG*K**KRRLLAQK*YPCFQHYQKEPPHKI*TPC*TQWGDIKQLCKC*KKPSMRKLQTGIDCIQCMQGQLHQAR*ESQGEVT*QELLVPFRSK*DG*QIIHLSQ*EKSIKDG*SWD*IK**ECIALPAFWT*DKDQRNPLETM*TGSIKL*EPSKLHKM*KIG*QKPCWSKMRTQIVRLF*KHWGQQLH*KK**QHVREWEGLATKQEYWLRQ*AKQTRP**CREAILKALKELLNVSTVARKGT*PEIAGPLGKKAVGNVERKDTK*KTVLKDRLIF*GNFGLPTRGGQGISSRADQSQQSQQPHQRRASGSRRQPQL*SRNRKTGNL*LPSDHSLATTPCLNKSRGPDKRGSLRHRSR*YSIRRNKFARKMETKNDRRNWRFYQSKTI*SNTYRNLWKKGYRYSISRTHTCQHNWKKSVDSAWLHFKFSHQSY*NCTSKIKARNGWPKG*TMAIDRRENKSINRNL**NGEGRKNYKNWA*KSI*YSNICHKKEGQY*VEKISRFQGTQ*KNSRFLGSSIRNTTPSRVKKEKISDSTGCGGCIFFSSFI*RLQEIYCIHHT**KQ*NTRD*VSI*CASTGMERITSNIPV*HDKNLRAL*GTKSRNSHLSIYG*LVCRL*LRNRAT*SKNRGVKRTSVKVGIYHTRQETSERTSISLDGV*TPS*QMDSTAYTAARKG*LDCQ*YTEVSGKIKLGKSDLPRN*SKATL*TP*GGQSTNRCSTTN*RSRIRIGRKQGNSKRTSTWIIL*PIKRLDS*NTETGAGPMDISNLPRTIQKSENREVCKNEDCPH**CKTVNRGCAENIHGKHSNMGKDS*I*ITHPKRNMGDMVDRLLASHLDS*VGIC*YPSLSKIMVPARERSHSRSRNFLCRWSS*QGN*NRKSRVCY*QRKEESCFSNRNNKSED*TASNLYSFARFRIRSKHSNRLAICIRDHSSTTR*E*IRAS*PNNRTINKEGKGLPVMGTST*RNWRQ*TSR*ISK*WN*ESAISRWNR*SSRRA*KVSQQLESNG**L*YTTRSSKRNSS*L*SMSAKRGSHAWTSRL*PRNMATRLYTLRRKNYPGSSACSQWIYRSRSYSSRNRTRNSILYTKISRKMASQSSTYRQW**FHQCCS*GSLLVGRYPTGIWNSLQSPKSGSSRIHE*RIKDNYRAGKRSS*AP*DSSTNGSIHSQF*KKRGDWGVQCRGKNNRHNSNRHTN*RITKTNYKSSKFSGLLQRQQRSHLERTSQTTLER*RGSSNTR***HKGSTKEESKNH*GLWKTDGRC*LCGR*TG*RLEHGIV**NTICISQRELRDGFTDIIMKADIQK*VQKYTSH*GRLD***KHTGGCNQEKESGIWVMESP*NGD*EDIPHK*NQAWQTS*FICIILIVLQTLP*GKPY*DT*LFLGVTIKQDIIIR*DLYNIWH*QH**NQKR*NHLCLVLRN**RIDGTTPRRSGAAEGTIQ*MDTRASRGTQAGSCQTLS*TMAS*LRTIYL*NIWGYLGRSRSPTKNSATTDVYSFQNWVPA*QNRHFETEKSKKWSQ*ILT*SPGTIQEVSLKLLAITAIVNAVATIV*FAFREKA*AFPMAGRSGDNDEALLRAVRIIKILYQSSKYL*CYI*IIE*G**HW**H*S*Q*LCGP*YI*NIGNW*DKGK*TG*LKELGKEQKTVAMRVRGTLRNYQQWWIWGVLGFWMLMICNGGGKVEKDLWVTVYYGVPVWKEAKTTLFCASDAKAYDTEVHNVWATHACVPTDPNPQEMVLGNVTENFNMWKNEMVDQMQEDVISLWDQSLKPCVKLTPLCVTLECKNVSKHNASVTNSTLSGTYNESGQEIKNCTFNVTTELRDKKKKEYALFYRLDIVPLDEENSSNNSTSNNSSGNYRLINCNTSAITQACPKVNFDPIPIHYCTPAGYAILKCNNKTFNGTGPCNNVSTVQCTHGIKPVVSTQLLLNGSLAEEEIIIRSENLTDNVKTIIVHLNKPVEIECIRPNNNTRKSIRIGPGQTFYATGEIIGDIRQAYCIINASQWNETLYNVSKKLAERFNNRTINFTSSSGGDLEITTHSFNCRGEFFYCNTSRLFNSTYMSNGTYTYTINSNISNITIPCRIKQIVNMWQEVGRAMYAPPIAGNITCKSNITGLLLVRDGGSNETQPEIFRPGGGDMRDNWRSELYKYKVVEIKPLGLAPTTAKRRVVEREKRAVGIGAVFLGFLGAAGSTMGAASITLTVQARQLLSGIVQQQSNLLKAIEAQQHLLQLTVWGIKQLQTRVLAIERYLKDQQLLGIWGCSGRLICTTAVPWNSSWSNKTQKEIWDNMTWMEWDREINNYTDTIYRLLEESQNQQEKNEKDLLALDSWNNLWNWFNITNWLWYIRIFIMIVGGLIGLRIIFAVLSVVNRVRQGYSPLSFQIHTPNPGGPDRLGRIEEEGGEQDKNRSVRLVSGFLALVWDDLRNLCLFSYHQLRDFILVTARVVELLGRSSLRGLQKGWEALKYLGSLVQYWGLELKKSAISLFDSIAIAVAEGTDRIIEFIRRICRAIRNIPRRIRQGFEIALQ*NGGQMVKK*HSWMACYKGENETN*ATN*AGSRRSRSSISRLR*TWSTYNQQHRHQ*C*LCLAEGARGGRRSRLSSQTSGASKTNDF*GSI*SQLLFKRKGGTGRVNLLQEKARDP*FMGLSHTRLLP*LGQLHTRTRGQIPTDLWVVLQASTS*PK*NRSGQRRRRQLLATPYGPAWNGG*TQRSIKVEV*QYASTQTHGPRAASGVLQRLLTQKELC*YRRDFPRGLSAGAFPEEWSGRDWEWSTLRCCI*AAAFRLYWVSLGRPDLSLGALWLSREPTA*ASX\"\n",
    "k = 2\n",
    "kmers = [seq[i: i + k] for i in range (len(seq) - k + 1)]\n",
    "kmer_counts = Counter(kmers)\n",
    "print(kmer_counts)\n",
    "# print(Counter(kmers))\n",
    "\n",
    "most_common_kmer = kmer_counts.most_common(1)\n",
    "print(f'Most common {k}-mer: {most_common_kmer}')"
   ]
  },
  {
   "cell_type": "markdown",
   "metadata": {
    "id": "maLHo3--QJ3q"
   },
   "source": [
    "## For a Bash Script; same idea as python script\n",
    "\n",
    "### Save the script\n",
    "\n",
    "```python\n",
    "bash_script = \"\"\"\n",
    "#!/bin/bash\n",
    "for sth in sth:\n",
    "  do something\n",
    "\n",
    "  done\n",
    "\"\"\"\n",
    "\n",
    "with open(\"script.sh\", \"w\") as f:\n",
    "    f.write(bash_script)\n",
    "\n",
    "# Make it executable\n",
    "!chmod +x script.sh\n",
    "```\n",
    "\n",
    "### Then, run it in Colab:\n",
    "\n",
    "```python\n",
    "!./script.sh arguments\n",
    "```\n",
    "\n",
    "---\n",
    "\n",
    "## Pro Tip: You can have bash commands in a python script and vice versa\n",
    "\n",
    "```python\n",
    "import subprocess\n",
    "\n",
    "#this basically runs python3 script.py -a x -b y -o z\n",
    "subprocess.run([\"python3\", \"script.py\", \"-a\", \"x\", \"-b\", \"y\", \"-o\", \"z\"])\n",
    "```\n",
    "\n",
    "Check Google for how to add python commands to a bash script"
   ]
  },
  {
   "cell_type": "code",
   "execution_count": null,
   "metadata": {
    "id": "7myRx-Pix84u"
   },
   "outputs": [],
   "source": []
  }
 ],
 "metadata": {
  "colab": {
   "provenance": [
    {
     "file_id": "1XlnQqfqrVVTf7B9vzcyGeSQ-ikXkbfR5",
     "timestamp": 1748356438489
    }
   ]
  },
  "kernelspec": {
   "display_name": "Python 3",
   "name": "python3"
  },
  "language_info": {
   "name": "python"
  }
 },
 "nbformat": 4,
 "nbformat_minor": 0
}
